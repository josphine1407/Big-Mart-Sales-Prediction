{
 "cells": [
  {
   "cell_type": "markdown",
   "id": "b1bf659a",
   "metadata": {},
   "source": [
    "# BigMart Sales Prediction Project\n",
    "\n",
    "**Goal:**  \n",
    "Predict the sales for each product in BigMart outlets based on historical sales and product/store attributes.\n",
    "\n",
    "**Dataset:**  \n",
    "- **train.csv** — contains product/store details and actual sales (target variable `Item_Outlet_Sales`)  \n",
    "- **test.csv** — similar structure but without sales (we must predict these)\n",
    "\n",
    "**Steps in this notebook:**\n",
    "1. Load train & test datasets\n",
    "2. Data Cleaning (fix categories, impute missing values)\n",
    "3. Feature Engineering\n",
    "4. Exploratory Data Analysis (EDA)\n",
    "5. Model Training with 5-fold Cross-Validation\n",
    "6. Final model fitting & predictions\n",
    "7. Save submission file\n",
    "8. Display top feature importances\n"
   ]
  },
  {
   "cell_type": "markdown",
   "id": "0b6a3499",
   "metadata": {},
   "source": [
    "# Import Libraries"
   ]
  },
  {
   "cell_type": "code",
   "execution_count": 1,
   "id": "9a019649",
   "metadata": {},
   "outputs": [],
   "source": [
    "import pandas as pd\n",
    "import numpy as np\n",
    "import matplotlib.pyplot as plt\n",
    "import seaborn as sns\n",
    "\n",
    "from sklearn.model_selection import KFold, cross_val_score\n",
    "from sklearn.preprocessing import LabelEncoder\n",
    "from sklearn.ensemble import RandomForestRegressor\n",
    "from sklearn.metrics import mean_squared_error\n",
    "from IPython.display import FileLink\n"
   ]
  },
  {
   "cell_type": "markdown",
   "id": "5568493d",
   "metadata": {},
   "source": [
    "# Load Train & Test Data"
   ]
  },
  {
   "cell_type": "code",
   "execution_count": 2,
   "id": "c8889485",
   "metadata": {},
   "outputs": [
    {
     "name": "stdout",
     "output_type": "stream",
     "text": [
      "Train shape: (8523, 12)\n",
      "Test shape: (5681, 11)\n"
     ]
    },
    {
     "data": {
      "text/html": [
       "<div>\n",
       "<style scoped>\n",
       "    .dataframe tbody tr th:only-of-type {\n",
       "        vertical-align: middle;\n",
       "    }\n",
       "\n",
       "    .dataframe tbody tr th {\n",
       "        vertical-align: top;\n",
       "    }\n",
       "\n",
       "    .dataframe thead th {\n",
       "        text-align: right;\n",
       "    }\n",
       "</style>\n",
       "<table border=\"1\" class=\"dataframe\">\n",
       "  <thead>\n",
       "    <tr style=\"text-align: right;\">\n",
       "      <th></th>\n",
       "      <th>Item_Identifier</th>\n",
       "      <th>Item_Weight</th>\n",
       "      <th>Item_Fat_Content</th>\n",
       "      <th>Item_Visibility</th>\n",
       "      <th>Item_Type</th>\n",
       "      <th>Item_MRP</th>\n",
       "      <th>Outlet_Identifier</th>\n",
       "      <th>Outlet_Establishment_Year</th>\n",
       "      <th>Outlet_Size</th>\n",
       "      <th>Outlet_Location_Type</th>\n",
       "      <th>Outlet_Type</th>\n",
       "      <th>Item_Outlet_Sales</th>\n",
       "    </tr>\n",
       "  </thead>\n",
       "  <tbody>\n",
       "    <tr>\n",
       "      <th>0</th>\n",
       "      <td>FDA15</td>\n",
       "      <td>9.30</td>\n",
       "      <td>Low Fat</td>\n",
       "      <td>0.016047</td>\n",
       "      <td>Dairy</td>\n",
       "      <td>249.8092</td>\n",
       "      <td>OUT049</td>\n",
       "      <td>1999</td>\n",
       "      <td>Medium</td>\n",
       "      <td>Tier 1</td>\n",
       "      <td>Supermarket Type1</td>\n",
       "      <td>3735.1380</td>\n",
       "    </tr>\n",
       "    <tr>\n",
       "      <th>1</th>\n",
       "      <td>DRC01</td>\n",
       "      <td>5.92</td>\n",
       "      <td>Regular</td>\n",
       "      <td>0.019278</td>\n",
       "      <td>Soft Drinks</td>\n",
       "      <td>48.2692</td>\n",
       "      <td>OUT018</td>\n",
       "      <td>2009</td>\n",
       "      <td>Medium</td>\n",
       "      <td>Tier 3</td>\n",
       "      <td>Supermarket Type2</td>\n",
       "      <td>443.4228</td>\n",
       "    </tr>\n",
       "    <tr>\n",
       "      <th>2</th>\n",
       "      <td>FDN15</td>\n",
       "      <td>17.50</td>\n",
       "      <td>Low Fat</td>\n",
       "      <td>0.016760</td>\n",
       "      <td>Meat</td>\n",
       "      <td>141.6180</td>\n",
       "      <td>OUT049</td>\n",
       "      <td>1999</td>\n",
       "      <td>Medium</td>\n",
       "      <td>Tier 1</td>\n",
       "      <td>Supermarket Type1</td>\n",
       "      <td>2097.2700</td>\n",
       "    </tr>\n",
       "    <tr>\n",
       "      <th>3</th>\n",
       "      <td>FDX07</td>\n",
       "      <td>19.20</td>\n",
       "      <td>Regular</td>\n",
       "      <td>0.000000</td>\n",
       "      <td>Fruits and Vegetables</td>\n",
       "      <td>182.0950</td>\n",
       "      <td>OUT010</td>\n",
       "      <td>1998</td>\n",
       "      <td>NaN</td>\n",
       "      <td>Tier 3</td>\n",
       "      <td>Grocery Store</td>\n",
       "      <td>732.3800</td>\n",
       "    </tr>\n",
       "    <tr>\n",
       "      <th>4</th>\n",
       "      <td>NCD19</td>\n",
       "      <td>8.93</td>\n",
       "      <td>Low Fat</td>\n",
       "      <td>0.000000</td>\n",
       "      <td>Household</td>\n",
       "      <td>53.8614</td>\n",
       "      <td>OUT013</td>\n",
       "      <td>1987</td>\n",
       "      <td>High</td>\n",
       "      <td>Tier 3</td>\n",
       "      <td>Supermarket Type1</td>\n",
       "      <td>994.7052</td>\n",
       "    </tr>\n",
       "  </tbody>\n",
       "</table>\n",
       "</div>"
      ],
      "text/plain": [
       "  Item_Identifier  Item_Weight Item_Fat_Content  Item_Visibility  \\\n",
       "0           FDA15         9.30          Low Fat         0.016047   \n",
       "1           DRC01         5.92          Regular         0.019278   \n",
       "2           FDN15        17.50          Low Fat         0.016760   \n",
       "3           FDX07        19.20          Regular         0.000000   \n",
       "4           NCD19         8.93          Low Fat         0.000000   \n",
       "\n",
       "               Item_Type  Item_MRP Outlet_Identifier  \\\n",
       "0                  Dairy  249.8092            OUT049   \n",
       "1            Soft Drinks   48.2692            OUT018   \n",
       "2                   Meat  141.6180            OUT049   \n",
       "3  Fruits and Vegetables  182.0950            OUT010   \n",
       "4              Household   53.8614            OUT013   \n",
       "\n",
       "   Outlet_Establishment_Year Outlet_Size Outlet_Location_Type  \\\n",
       "0                       1999      Medium               Tier 1   \n",
       "1                       2009      Medium               Tier 3   \n",
       "2                       1999      Medium               Tier 1   \n",
       "3                       1998         NaN               Tier 3   \n",
       "4                       1987        High               Tier 3   \n",
       "\n",
       "         Outlet_Type  Item_Outlet_Sales  \n",
       "0  Supermarket Type1          3735.1380  \n",
       "1  Supermarket Type2           443.4228  \n",
       "2  Supermarket Type1          2097.2700  \n",
       "3      Grocery Store           732.3800  \n",
       "4  Supermarket Type1           994.7052  "
      ]
     },
     "execution_count": 2,
     "metadata": {},
     "output_type": "execute_result"
    }
   ],
   "source": [
    "train = pd.read_csv(\"train_v9rqX0R.csv\")\n",
    "test = pd.read_csv(\"test_AbJTz2l.csv\")\n",
    "\n",
    "print(\"Train shape:\", train.shape)\n",
    "print(\"Test shape:\", test.shape)\n",
    "\n",
    "train.head()\n",
    "\n"
   ]
  },
  {
   "cell_type": "markdown",
   "id": "299bb25b",
   "metadata": {},
   "source": [
    "# Data Cleaning\n"
   ]
  },
  {
   "cell_type": "code",
   "execution_count": 3,
   "id": "472808e8",
   "metadata": {},
   "outputs": [],
   "source": [
    "train['Item_Fat_Content'] = train['Item_Fat_Content'].replace({\n",
    "    'LF':'Low Fat', 'low fat':'Low Fat', 'reg':'Regular'\n",
    "})\n",
    "test['Item_Fat_Content'] = test['Item_Fat_Content'].replace({\n",
    "    'LF':'Low Fat', 'low fat':'Low Fat', 'reg':'Regular'\n",
    "})\n",
    "\n",
    "\n",
    "item_weight_mean = train.groupby('Item_Identifier')['Item_Weight'].mean()\n",
    "train['Item_Weight'] = train.apply(lambda row: item_weight_mean[row['Item_Identifier']] \n",
    "                                   if pd.isnull(row['Item_Weight']) else row['Item_Weight'], axis=1)\n",
    "test['Item_Weight'] = test.apply(lambda row: item_weight_mean.get(row['Item_Identifier'], np.nan) \n",
    "                                 if pd.isnull(row['Item_Weight']) else row['Item_Weight'], axis=1)\n",
    "\n",
    "\n",
    "outlet_size_mode = train.pivot_table(values='Outlet_Size', columns='Outlet_Type', aggfunc=lambda x: x.mode()[0])\n",
    "for df in [train, test]:\n",
    "    df['Outlet_Size'] = df.apply(\n",
    "        lambda row: outlet_size_mode[row['Outlet_Type']].iloc[0] if pd.isnull(row['Outlet_Size']) else row['Outlet_Size'],\n",
    "        axis=1\n",
    "    )\n"
   ]
  },
  {
   "cell_type": "markdown",
   "id": "6bb65ea9",
   "metadata": {},
   "source": [
    "# Feature Engineering"
   ]
  },
  {
   "cell_type": "code",
   "execution_count": 4,
   "id": "12aee118",
   "metadata": {},
   "outputs": [],
   "source": [
    "\n",
    "for df in [train, test]:\n",
    "    df['Item_Category'] = df['Item_Identifier'].apply(lambda x: x[:2])\n",
    "\n",
    "\n",
    "for df in [train, test]:\n",
    "    df['Outlet_Age'] = 2013 - df['Outlet_Establishment_Year']\n",
    "\n",
    "\n",
    "le = LabelEncoder()\n",
    "cat_cols = ['Item_Fat_Content', 'Item_Type', 'Outlet_Size', 'Outlet_Location_Type',\n",
    "            'Outlet_Type', 'Item_Category', 'Outlet_Identifier']\n",
    "\n",
    "for col in cat_cols:\n",
    "    train[col] = le.fit_transform(train[col])\n",
    "    test[col] = le.transform(test[col])\n"
   ]
  },
  {
   "cell_type": "markdown",
   "id": "c0f3848e",
   "metadata": {},
   "source": [
    "# EDA: Missing Values"
   ]
  },
  {
   "cell_type": "code",
   "execution_count": 5,
   "id": "a866540a",
   "metadata": {},
   "outputs": [
    {
     "data": {
      "text/plain": [
       "Item_Weight    4\n",
       "dtype: int64"
      ]
     },
     "execution_count": 5,
     "metadata": {},
     "output_type": "execute_result"
    }
   ],
   "source": [
    "missing_train = train.isnull().sum()\n",
    "missing_train = missing_train[missing_train > 0]\n",
    "missing_train\n"
   ]
  },
  {
   "cell_type": "markdown",
   "id": "4ee03425",
   "metadata": {},
   "source": [
    "# EDA: Sales Distribution"
   ]
  },
  {
   "cell_type": "code",
   "execution_count": 6,
   "id": "0ad19336",
   "metadata": {},
   "outputs": [
    {
     "data": {
      "image/png": "[encoded data removed]",
      "text/plain": [
       "<Figure size 800x500 with 1 Axes>"
      ]
     },
     "metadata": {},
     "output_type": "display_data"
    }
   ],
   "source": [
    "plt.figure(figsize=(8,5))\n",
    "sns.histplot(train['Item_Outlet_Sales'], bins=30, kde=True)\n",
    "plt.title(\"Distribution of Sales\")\n",
    "plt.show()\n"
   ]
  },
  {
   "cell_type": "markdown",
   "id": "3898b0d1",
   "metadata": {},
   "source": [
    "# Prepare Data for Modeling"
   ]
  },
  {
   "cell_type": "code",
   "execution_count": 7,
   "id": "b1a89014",
   "metadata": {},
   "outputs": [],
   "source": [
    "target = 'Item_Outlet_Sales'\n",
    "features = [col for col in train.columns if col not in [target, 'Item_Identifier']]\n",
    "\n",
    "X = train[features]\n",
    "y = train[target]\n",
    "X_test = test[features]\n"
   ]
  },
  {
   "cell_type": "markdown",
   "id": "0db0ca2b",
   "metadata": {},
   "source": [
    "# Model Training"
   ]
  },
  {
   "cell_type": "code",
   "execution_count": 8,
   "id": "7d902ec9",
   "metadata": {},
   "outputs": [
    {
     "name": "stdout",
     "output_type": "stream",
     "text": [
      "CV RMSE scores: [1036.45501046 1089.61092354 1090.359007   1133.99022729 1135.30205951]\n",
      "Mean CV RMSE: 1097.1434455604076\n"
     ]
    }
   ],
   "source": [
    "from sklearn.preprocessing import LabelEncoder\n",
    "\n",
    "X = train.drop(columns=['Item_Outlet_Sales']).copy()\n",
    "y = train['Item_Outlet_Sales']\n",
    "\n",
    "for col in X.select_dtypes(include=['object']).columns:\n",
    "    le = LabelEncoder()\n",
    "    X[col] = le.fit_transform(X[col].astype(str))\n",
    "\n",
    "if X.isnull().sum().any():\n",
    "    X = X.fillna(0)\n",
    "\n",
    "model = RandomForestRegressor(\n",
    "    n_estimators=600,\n",
    "    max_depth=20,\n",
    "    min_samples_split=4,\n",
    "    min_samples_leaf=2,\n",
    "    max_features='sqrt',\n",
    "    random_state=42,\n",
    "    n_jobs=-1\n",
    ")\n",
    "\n",
    "kf = KFold(n_splits=5, shuffle=True, random_state=42)\n",
    "cv_scores = -1 * cross_val_score(model, X, y, scoring='neg_root_mean_squared_error', cv=kf)\n",
    "\n",
    "print(\"CV RMSE scores:\", cv_scores)\n",
    "print(\"Mean CV RMSE:\", np.mean(cv_scores))\n"
   ]
  },
  {
   "cell_type": "markdown",
   "id": "1cb1353d",
   "metadata": {},
   "source": [
    "# Fit Final Model & Predict Test"
   ]
  },
  {
   "cell_type": "code",
   "execution_count": 9,
   "id": "dd9a731f",
   "metadata": {},
   "outputs": [
    {
     "name": "stdout",
     "output_type": "stream",
     "text": [
      "Submission CSV created successfully!\n"
     ]
    },
    {
     "data": {
      "text/html": [
       "<a href='BigMart_Submission.csv' target='_blank'>BigMart_Submission.csv</a><br>"
      ],
      "text/plain": [
       "C:\\Users\\karne\\BigMart_Submission.csv"
      ]
     },
     "execution_count": 9,
     "metadata": {},
     "output_type": "execute_result"
    }
   ],
   "source": [
    "train = pd.read_csv(\"train_v9rqX0R.csv\")\n",
    "test = pd.read_csv(\"test_AbJTz2l.csv\")\n",
    "\n",
    "X = train.drop(columns=['Item_Outlet_Sales']).copy()\n",
    "y = train['Item_Outlet_Sales']\n",
    "\n",
    "le_dict = {}  \n",
    "for col in X.select_dtypes(include=['object']).columns:\n",
    "    le = LabelEncoder()\n",
    "    X[col] = le.fit_transform(X[col].astype(str))\n",
    "    le_dict[col] = le  \n",
    "\n",
    "if X.isnull().sum().any():\n",
    "    X = X.fillna(0)\n",
    "\n",
    "model = RandomForestRegressor(\n",
    "    n_estimators=600,\n",
    "    max_depth=20,\n",
    "    min_samples_split=4,\n",
    "    min_samples_leaf=2,\n",
    "    max_features='sqrt',\n",
    "    random_state=42,\n",
    "    n_jobs=-1\n",
    ")\n",
    "\n",
    "\n",
    "model.fit(X, y)\n",
    "\n",
    "X_test = test.copy()\n",
    "for col in X_test.select_dtypes(include=['object']).columns:\n",
    "    if col in le_dict:\n",
    "        X_test[col] = le_dict[col].transform(X_test[col].astype(str))\n",
    "    else:\n",
    "        X_test[col] = LabelEncoder().fit_transform(X_test[col].astype(str))  # fallback\n",
    "\n",
    "if X_test.isnull().sum().any():\n",
    "    X_test = X_test.fillna(0)\n",
    "\n",
    "\n",
    "test_pred = model.predict(X_test)\n",
    "\n",
    "\n",
    "submission = pd.DataFrame({\n",
    "    'Item_Identifier': test['Item_Identifier'],\n",
    "    'Outlet_Identifier': test['Outlet_Identifier'],\n",
    "    'Item_Outlet_Sales': test_pred\n",
    "})\n",
    "\n",
    "\n",
    "submission.to_csv(\"BigMart_Submission.csv\", index=False)\n",
    "print(\"Submission CSV created successfully!\")\n",
    "\n",
    "# Create a download link for the CSV in Jupyter Notebook\n",
    "FileLink(\"BigMart_Submission.csv\")\n"
   ]
  },
  {
   "cell_type": "markdown",
   "id": "95e61cb1",
   "metadata": {},
   "source": [
    "# Feature Importances"
   ]
  },
  {
   "cell_type": "code",
   "execution_count": 10,
   "id": "0bdb531b",
   "metadata": {},
   "outputs": [
    {
     "data": {
      "image/png": "[encoded data removed]",
      "text/plain": [
       "<Figure size 1000x600 with 1 Axes>"
      ]
     },
     "metadata": {},
     "output_type": "display_data"
    }
   ],
   "source": [
    "importances = pd.DataFrame({\n",
    "    'Feature': X.columns,\n",
    "    'Importance': model.feature_importances_\n",
    "}).sort_values(by='Importance', ascending=False)\n",
    "\n",
    "plt.figure(figsize=(10,6))\n",
    "sns.barplot(data=importances.head(20), x='Importance', y='Feature')\n",
    "plt.title(\"Top 20 Feature Importances\")\n",
    "plt.show()\n"
   ]
  }
 ],
 "metadata": {
  "kernelspec": {
   "display_name": "Python 3 (ipykernel)",
   "language": "python",
   "name": "python3"
  },
  "language_info": {
   "codemirror_mode": {
    "name": "ipython",
    "version": 3
   },
   "file_extension": ".py",
   "mimetype": "text/x-python",
   "name": "python",
   "nbconvert_exporter": "python",
   "pygments_lexer": "ipython3",
   "version": "3.10.9"
  }
 },
 "nbformat": 4,
 "nbformat_minor": 5
}
